{
 "cells": [
  {
   "cell_type": "code",
   "execution_count": null,
   "metadata": {
    "collapsed": true
   },
   "outputs": [],
   "source": [
    "from multiply_data_access import DataAccessComponent\n",
    "import yaml\n",
    "data_access_component = DataAccessComponent()\n",
    "data_access_component.show_stores()\n",
    "data_access_component.get_provided_data_types()\n",
    "BARRAX_ROI = \"POLYGON((-2.20397502663252 39.09868106889479,-1.9142106223355313 39.09868106889479,\" \\\n",
    "             \"-1.9142106223355313 38.94504502508093,-2.20397502663252 38.94504502508093,\" \\\n",
    "             \"-2.20397502663252 39.09868106889479))\"\n",
    "start_time = '2017-01-01'\n",
    "end_time = '2017-01-20'\n",
    "import os\n",
    "working_dir = '/home/user/m1/'\n",
    "def create_dir(dir):\n",
    "    if not os.path.exists(dir):\n",
    "        os.makedirs(dir)\n",
    "create_dir(working_dir)\n",
    "from multiply_prior_engine import PriorEngine\n",
    "import datetime\n",
    "time = datetime.datetime.strptime(start_time, '%Y-%m-%d')\n",
    "end_time = datetime.datetime.strptime(end_time, '%Y-%m-%d')\n",
    "configuration_file='{}/config.yaml'.format(os.getcwd())\n",
    "with open(configuration_file) as config_file:\n",
    "    parameters = yaml.load(config_file)\n",
    "variables = ['n', 'cab', 'car', 'cbrown', 'cw', 'cm', 'lai', 'ala', 'bsoil', 'psoil']\n",
    "while time <= end_time:\n",
    "    time_as_string = time.strftime('%Y-%m-%d')\n",
    "    print(time_as_string)\n",
    "    prior_engine = PriorEngine(config=configuration_file, datestr=time_as_string, variables=variables)\n",
    "    priors = prior_engine.get_priors()\n",
    "    time = time + datetime.timedelta(days=1)\n",
    "priors_dir = '{}/priors/'.format(working_dir)\n",
    "create_dir(priors_dir)\n",
    "os.system(\"mv *.vrt \" + priors_dir)"
   ]
  }
 ],
 "metadata": {
  "kernelspec": {
   "display_name": "Python 2",
   "language": "python",
   "name": "python2"
  },
  "language_info": {
   "codemirror_mode": {
    "name": "ipython",
    "version": 2
   },
   "file_extension": ".py",
   "mimetype": "text/x-python",
   "name": "python",
   "nbconvert_exporter": "python",
   "pygments_lexer": "ipython2",
   "version": "2.7.6"
  }
 },
 "nbformat": 4,
 "nbformat_minor": 0
}
