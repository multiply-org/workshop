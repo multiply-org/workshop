{
 "cells": [
  {
   "cell_type": "code",
   "execution_count": null,
   "metadata": {
    "collapsed": true
   },
   "outputs": [],
   "source": [
    "from multiply_data_access import DataAccessComponent\n",
    "import yaml\n",
    "data_access_component = DataAccessComponent()\n",
    "data_access_component.show_stores()\n",
    "data_access_component.get_provided_data_types()\n",
    "BARRAX_ROI = \"POLYGON((-2.20397502663252 39.09868106889479,-1.9142106223355313 39.09868106889479,\" \\\n",
    "             \"-1.9142106223355313 38.94504502508093,-2.20397502663252 38.94504502508093,\" \\\n",
    "             \"-2.20397502663252 39.09868106889479))\"\n",
    "start_time = '2017-06-01'\n",
    "end_time = '2017-06-10'\n",
    "s2_data_infos = data_access_component.query(BARRAX_ROI, start_time, end_time, 'AWS_S2_L2')\n",
    "print(s2_data_infos)\n",
    "s2_urls = data_access_component.get_data_urls_from_data_set_meta_infos(s2_data_infos)\n",
    "print(s2_urls)\n",
    "import os\n",
    "working_dir = '/home/user/m1/'\n",
    "def create_dir(dir):\n",
    "    if not os.path.exists(dir):\n",
    "        os.makedirs(dir)\n",
    "create_dir(working_dir)\n",
    "s2_l2_dir = '{}/s2_l2'.format(working_dir)\n",
    "from multiply_orchestration import create_sym_links\n",
    "create_sym_links(s2_urls, s2_l2_dir)\n",
    "configuration_file='{}/config.yaml'.format(os.getcwd())\n",
    "with open(configuration_file) as config_file:\n",
    "    parameters = yaml.load(config_file)\n",
    "variables = 'n,cab,car,cbrown,cw,cm,lai,ala,bsoil,psoil'\n",
    "priors_dir = '{}/priors'.format(working_dir)"
   ]
  },
  {
   "cell_type": "code",
   "execution_count": null,
   "metadata": {},
   "outputs": [],
   "source": [
    "inference_engine_dir = '/software/inference-engine-0.4/multiply_inference_engine'\n",
    "s2_emulators_dir = '/data/archive/emulators/s2_prosail'\n",
    "inference_type = 'high'\n",
    "state_mask = parameters['General']['state_mask']\n",
    "\n",
    "biophys_dir = '{}/biophys'.format(working_dir)\n",
    "create_dir(biophys_dir)\n",
    "previous_state = '{}/state/2017-01-01'.format(working_dir)\n",
    "create_dir(previous_state)\n",
    "next_state = '{}/state/2017-01-10'.format(working_dir)\n",
    "create_dir(next_state)\n",
    "\n",
    "inference_engine_call = ( \"python \"+inference_engine_dir+\"/inference_engine.py\"\n",
    "          + \" -s \" + str(start_time)\n",
    "          + \" -e \" + str(end_time)\n",
    "          + \" -i \" + inference_type\n",
    "          + \" -em \" + s2_emulators_dir\n",
    "          + \" -p \" + variables\n",
    "          + ((\" -ps \" + previous_state) if previous_state != 'none' else \"\")\n",
    "          + \" -pd \" + priors_dir\n",
    "          + \" -d \" + s2_l2_dir\n",
    "          + \" -sm \" + state_mask\n",
    "          + \" -o \" + biophys_dir\n",
    "          + \" -ns \" + next_state )\n",
    "print(inference_engine_call)\n",
    "os.system(inference_engine_call)"
   ]
  }
 ],
 "metadata": {
  "kernelspec": {
   "display_name": "Python 2",
   "language": "python",
   "name": "python2"
  },
  "language_info": {
   "codemirror_mode": {
    "name": "ipython",
    "version": 2
   },
   "file_extension": ".py",
   "mimetype": "text/x-python",
   "name": "python",
   "nbconvert_exporter": "python",
   "pygments_lexer": "ipython2",
   "version": "2.7.6"
  }
 },
 "nbformat": 4,
 "nbformat_minor": 0
}
