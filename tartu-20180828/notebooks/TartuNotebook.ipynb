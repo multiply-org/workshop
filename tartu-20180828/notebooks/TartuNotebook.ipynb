{
 "cells": [
  {
   "cell_type": "markdown",
   "metadata": {
    "collapsed": true
   },
   "source": [
    "We begin with setting up the Data Access Component (DAC). The DAC is responsible for retrieving the data we need as input for the MULTIPLY platform. During its setup, it will load several data stores. A data store manages access to data that is provided locally or remotely. The DAC can be asked about the stores it provides access to."
   ]
  },
  {
   "cell_type": "code",
   "execution_count": 1,
   "metadata": {
    "collapsed": false
   },
   "outputs": [
    {
     "name": "stderr",
     "output_type": "stream",
     "text": [
      "INFO:root:Read data store aws_s2\n",
      "INFO:root:Read data store cams\n",
      "INFO:root:Read data store emulators\n",
      "INFO:root:Read data store Aster DEM\n",
      "INFO:root:Read data store MODIS Data\n"
     ]
    },
    {
     "name": "stdout",
     "output_type": "stream",
     "text": [
      "Data store aws_s2\n",
      "Data store cams\n",
      "Data store emulators\n",
      "Data store Aster DEM\n",
      "Data store MODIS Data\n"
     ]
    }
   ],
   "source": [
    "from multiply_data_access import DataAccessComponent\n",
    "data_access_component = DataAccessComponent()\n",
    "data_access_component.show_stores()"
   ]
  },
  {
   "cell_type": "markdown",
   "metadata": {},
   "source": [
    "We then can ask the Data Access Component what data of what type is available."
   ]
  },
  {
   "cell_type": "code",
   "execution_count": 2,
   "metadata": {},
   "outputs": [
    {
     "data": {
      "text/plain": [
       "['AWS_S2_L1C',\n",
       " 'CAMS',\n",
       " 'ISO_MSI_A_EMU',\n",
       " 'ISO_MSI_B_EMU',\n",
       " 'WV_EMU',\n",
       " 'AsterDEM',\n",
       " 'MCD43A1.006']"
      ]
     },
     "execution_count": 2,
     "metadata": {},
     "output_type": "execute_result"
    }
   ],
   "source": [
    "data_access_component.get_provided_data_types()"
   ]
  },
  {
   "cell_type": "markdown",
   "metadata": {},
   "source": [
    "Suppose we want to perform high resolution pre-processing. For this we need S2 L1C data in the format used by AWS (AWS_S2_L1C). We also need MODIS data (from 3 days before to 3 days after the S2 observations, data type MCD43A1.006), a global DEM file (AsterDEM) and several emulators for S2 data.\n",
    "We also need to specify a spatial region of interest and start and end times. Let's suppose we are interested in the area around Barrax, Spain. We define the area by passing its coordinates in Well-Known-Text-Format (you can use https://arthur-e.github.io/Wicket/sandbox-gmaps3.html to get WKT representations of other regions of interest).\n",
    "We also define a start and ending time.\n",
    "When we have done that, we can ask the data access component for available S2 data."
   ]
  },
  {
   "cell_type": "code",
   "execution_count": 3,
   "metadata": {},
   "outputs": [
    {
     "data": {
      "text/plain": [
       "[Data Set:\n",
       "   Id: 30/S/WJ/2017/1/16/0, \n",
       "   Type: AWS_S2_L1C, \n",
       "   Start Time: 2017-01-16, \n",
       "   End Time: 2017-01-16, \n",
       "   Coverage: POLYGON((-3.00023345437724 39.7502679265611,-3.00023019602957 38.7608644567253,-1.73659678081167 38.7540360477761,-1.71871965133358 39.7431961916792,-3.00023345437724 39.7502679265611)),\n",
       " Data Set:\n",
       "   Id: 30/S/WJ/2017/1/19/0, \n",
       "   Type: AWS_S2_L1C, \n",
       "   Start Time: 2017-01-19, \n",
       "   End Time: 2017-01-19, \n",
       "   Coverage: POLYGON((-3.00023345437724 39.7502679265611,-3.00023019602957 38.7608644567253,-1.73659678081167 38.7540360477761,-1.71871965133358 39.7431961916792,-3.00023345437724 39.7502679265611))]"
      ]
     },
     "execution_count": 3,
     "metadata": {},
     "output_type": "execute_result"
    }
   ],
   "source": [
    "BARRAX_ROI = \"POLYGON((-2.20397502663252 39.09868106889479,-1.9142106223355313 39.09868106889479,\" \\\n",
    "             \"-1.9142106223355313 38.94504502508093,-2.20397502663252 38.94504502508093,\" \\\n",
    "             \"-2.20397502663252 39.09868106889479))\"\n",
    "start_time = '2017-01-01'\n",
    "end_time = '2017-01-20'\n",
    "s2_data_infos = data_access_component.query(BARRAX_ROI, start_time, end_time, 'AWS_S2_L1C')\n",
    "s2_data_infos\n"
   ]
  },
  {
   "cell_type": "markdown",
   "metadata": {},
   "source": [
    "This has retrieved meta information about available S2 data. In particular, we can see the data coverage and the sensing date. When we are happy with the selection, let's get the data:"
   ]
  },
  {
   "cell_type": "code",
   "execution_count": 4,
   "metadata": {
    "collapsed": false
   },
   "outputs": [
    {
     "name": "stderr",
     "output_type": "stream",
     "text": [
      "INFO:root:Downloading S2 Data from 1-16-2017\n",
      "INFO:root:Downloaded S2 Data from 1-16-2017\n",
      "INFO:botocore.vendored.requests.packages.urllib3.connectionpool:Starting new HTTPS connection (1): sentinel-s2-l1c.s3.amazonaws.com\n",
      "INFO:botocore.vendored.requests.packages.urllib3.connectionpool:Starting new HTTPS connection (1): sentinel-s2-l1c.s3.amazonaws.com\n",
      "INFO:botocore.vendored.requests.packages.urllib3.connectionpool:Starting new HTTPS connection (1): sentinel-s2-l1c.s3.amazonaws.com\n",
      "INFO:botocore.vendored.requests.packages.urllib3.connectionpool:Starting new HTTPS connection (1): sentinel-s2-l1c.s3.amazonaws.com\n",
      "INFO:botocore.vendored.requests.packages.urllib3.connectionpool:Starting new HTTPS connection (1): sentinel-s2-l1c.s3.amazonaws.com\n",
      "INFO:botocore.vendored.requests.packages.urllib3.connectionpool:Starting new HTTPS connection (1): sentinel-s2-l1c.s3.amazonaws.com\n",
      "INFO:botocore.vendored.requests.packages.urllib3.connectionpool:Starting new HTTPS connection (1): sentinel-s2-l1c.s3.amazonaws.com\n",
      "INFO:botocore.vendored.requests.packages.urllib3.connectionpool:Starting new HTTPS connection (1): sentinel-s2-l1c.s3.amazonaws.com\n",
      "INFO:botocore.vendored.requests.packages.urllib3.connectionpool:Starting new HTTPS connection (1): sentinel-s2-l1c.s3.amazonaws.com\n",
      "INFO:botocore.vendored.requests.packages.urllib3.connectionpool:Starting new HTTPS connection (1): sentinel-s2-l1c.s3.amazonaws.com\n",
      "INFO:botocore.vendored.requests.packages.urllib3.connectionpool:Starting new HTTPS connection (1): sentinel-s2-l1c.s3.amazonaws.com\n",
      "INFO:botocore.vendored.requests.packages.urllib3.connectionpool:Starting new HTTPS connection (1): sentinel-s2-l1c.s3.amazonaws.com\n",
      "INFO:botocore.vendored.requests.packages.urllib3.connectionpool:Starting new HTTPS connection (1): sentinel-s2-l1c.s3.amazonaws.com\n",
      "INFO:botocore.vendored.requests.packages.urllib3.connectionpool:Starting new HTTPS connection (1): sentinel-s2-l1c.s3.eu-central-1.amazonaws.com\n",
      "INFO:botocore.vendored.requests.packages.urllib3.connectionpool:Starting new HTTPS connection (1): sentinel-s2-l1c.s3.eu-central-1.amazonaws.com\n",
      "INFO:botocore.vendored.requests.packages.urllib3.connectionpool:Starting new HTTPS connection (1): sentinel-s2-l1c.s3.eu-central-1.amazonaws.com\n",
      "INFO:botocore.vendored.requests.packages.urllib3.connectionpool:Starting new HTTPS connection (1): sentinel-s2-l1c.s3.eu-central-1.amazonaws.com\n",
      "INFO:botocore.vendored.requests.packages.urllib3.connectionpool:Starting new HTTPS connection (1): sentinel-s2-l1c.s3.eu-central-1.amazonaws.com\n",
      "INFO:botocore.vendored.requests.packages.urllib3.connectionpool:Starting new HTTPS connection (1): sentinel-s2-l1c.s3.eu-central-1.amazonaws.com\n",
      "INFO:botocore.vendored.requests.packages.urllib3.connectionpool:Starting new HTTPS connection (1): sentinel-s2-l1c.s3.eu-central-1.amazonaws.com\n",
      "INFO:botocore.vendored.requests.packages.urllib3.connectionpool:Starting new HTTPS connection (1): sentinel-s2-l1c.s3.eu-central-1.amazonaws.com\n",
      "INFO:botocore.vendored.requests.packages.urllib3.connectionpool:Starting new HTTPS connection (1): sentinel-s2-l1c.s3.eu-central-1.amazonaws.com\n",
      "INFO:botocore.vendored.requests.packages.urllib3.connectionpool:Starting new HTTPS connection (1): sentinel-s2-l1c.s3.eu-central-1.amazonaws.com\n",
      "INFO:botocore.vendored.requests.packages.urllib3.connectionpool:Starting new HTTPS connection (1): sentinel-s2-l1c.s3.eu-central-1.amazonaws.com\n",
      "INFO:botocore.vendored.requests.packages.urllib3.connectionpool:Starting new HTTPS connection (1): sentinel-s2-l1c.s3.eu-central-1.amazonaws.com\n",
      "INFO:botocore.vendored.requests.packages.urllib3.connectionpool:Starting new HTTPS connection (1): sentinel-s2-l1c.s3.eu-central-1.amazonaws.com\n",
      "INFO:root:Downloading S2 Data from 1-19-2017\n",
      "INFO:root:Downloaded S2 Data from 1-19-2017\n"
     ]
    }
   ],
   "source": [
    "s2_urls = data_access_component.get_data_urls_from_data_set_meta_infos(s2_data_infos)"
   ]
  },
  {
   "cell_type": "markdown",
   "metadata": {},
   "source": [
    "Now, let's get all the other data we need. First, all the emulators. We need to download them only once and can re-use them later."
   ]
  },
  {
   "cell_type": "code",
   "execution_count": 6,
   "metadata": {
    "collapsed": false
   },
   "outputs": [
    {
     "name": "stderr",
     "output_type": "stream",
     "text": [
      "INFO:root:Downloading isotropic_MSI_emulators_correction_xap_S2A.pkl\n"
     ]
    },
    {
     "name": "stdout",
     "output_type": "stream",
     "text": [
      "99 %"
     ]
    },
    {
     "name": "stderr",
     "output_type": "stream",
     "text": [
      "INFO:root:Downloaded isotropic_MSI_emulators_correction_xap_S2A.pkl\n",
      "INFO:root:Downloading isotropic_MSI_emulators_correction_xbp_S2A.pkl\n"
     ]
    },
    {
     "name": "stdout",
     "output_type": "stream",
     "text": [
      "99 %"
     ]
    },
    {
     "name": "stderr",
     "output_type": "stream",
     "text": [
      "INFO:root:Downloaded isotropic_MSI_emulators_correction_xbp_S2A.pkl\n",
      "INFO:root:Downloading isotropic_MSI_emulators_correction_xcp_S2A.pkl\n"
     ]
    },
    {
     "name": "stdout",
     "output_type": "stream",
     "text": [
      "100 %"
     ]
    },
    {
     "name": "stderr",
     "output_type": "stream",
     "text": [
      "INFO:root:Downloaded isotropic_MSI_emulators_correction_xcp_S2A.pkl\n",
      "INFO:root:Downloading isotropic_MSI_emulators_optimization_xap_S2A.pkl\n"
     ]
    },
    {
     "name": "stdout",
     "output_type": "stream",
     "text": [
      "100 %"
     ]
    },
    {
     "name": "stderr",
     "output_type": "stream",
     "text": [
      "INFO:root:Downloaded isotropic_MSI_emulators_optimization_xap_S2A.pkl\n",
      "INFO:root:Downloading isotropic_MSI_emulators_optimization_xbp_S2A.pkl\n"
     ]
    },
    {
     "name": "stdout",
     "output_type": "stream",
     "text": [
      "99 %"
     ]
    },
    {
     "name": "stderr",
     "output_type": "stream",
     "text": [
      "INFO:root:Downloaded isotropic_MSI_emulators_optimization_xbp_S2A.pkl\n",
      "INFO:root:Downloading isotropic_MSI_emulators_optimization_xcp_S2A.pkl\n"
     ]
    },
    {
     "name": "stdout",
     "output_type": "stream",
     "text": [
      "99 %"
     ]
    },
    {
     "name": "stderr",
     "output_type": "stream",
     "text": [
      "INFO:root:Downloaded isotropic_MSI_emulators_optimization_xcp_S2A.pkl\n",
      "INFO:root:Downloading isotropic_MSI_emulators_correction_xap_S2B.pkl\n"
     ]
    },
    {
     "name": "stdout",
     "output_type": "stream",
     "text": [
      "100 %"
     ]
    },
    {
     "name": "stderr",
     "output_type": "stream",
     "text": [
      "INFO:root:Downloaded isotropic_MSI_emulators_correction_xap_S2B.pkl\n",
      "INFO:root:Downloading isotropic_MSI_emulators_correction_xbp_S2B.pkl\n"
     ]
    },
    {
     "name": "stdout",
     "output_type": "stream",
     "text": [
      "100 %"
     ]
    },
    {
     "name": "stderr",
     "output_type": "stream",
     "text": [
      "INFO:root:Downloaded isotropic_MSI_emulators_correction_xbp_S2B.pkl\n",
      "INFO:root:Downloading isotropic_MSI_emulators_correction_xcp_S2B.pkl\n"
     ]
    },
    {
     "name": "stdout",
     "output_type": "stream",
     "text": [
      "100 %"
     ]
    },
    {
     "name": "stderr",
     "output_type": "stream",
     "text": [
      "INFO:root:Downloaded isotropic_MSI_emulators_correction_xcp_S2B.pkl\n",
      "INFO:root:Downloading isotropic_MSI_emulators_optimization_xap_S2B.pkl\n"
     ]
    },
    {
     "name": "stdout",
     "output_type": "stream",
     "text": [
      "99 %"
     ]
    },
    {
     "name": "stderr",
     "output_type": "stream",
     "text": [
      "INFO:root:Downloaded isotropic_MSI_emulators_optimization_xap_S2B.pkl\n",
      "INFO:root:Downloading isotropic_MSI_emulators_optimization_xbp_S2B.pkl\n"
     ]
    },
    {
     "name": "stdout",
     "output_type": "stream",
     "text": [
      "99 %"
     ]
    },
    {
     "name": "stderr",
     "output_type": "stream",
     "text": [
      "INFO:root:Downloaded isotropic_MSI_emulators_optimization_xbp_S2B.pkl\n",
      "INFO:root:Downloading isotropic_MSI_emulators_optimization_xcp_S2B.pkl\n"
     ]
    },
    {
     "name": "stdout",
     "output_type": "stream",
     "text": [
      "100 %"
     ]
    },
    {
     "name": "stderr",
     "output_type": "stream",
     "text": [
      "INFO:root:Downloaded isotropic_MSI_emulators_optimization_xcp_S2B.pkl\n",
      "INFO:root:Downloading wv_MSI_retrieval_S2A.pkl\n"
     ]
    },
    {
     "name": "stdout",
     "output_type": "stream",
     "text": [
      "99 %"
     ]
    },
    {
     "name": "stderr",
     "output_type": "stream",
     "text": [
      "INFO:root:Downloaded wv_MSI_retrieval_S2A.pkl\n"
     ]
    }
   ],
   "source": [
    "emu_urls = data_access_component.get_data_urls(BARRAX_ROI, start_time, end_time, 'ISO_MSI_A_EMU,ISO_MSI_B_EMU,WV_EMU')"
   ]
  },
  {
   "cell_type": "markdown",
   "metadata": {},
   "source": [
    "Let's get the ASTER DEM URL next ..."
   ]
  },
  {
   "cell_type": "code",
   "execution_count": 8,
   "metadata": {
    "collapsed": false
   },
   "outputs": [
    {
     "name": "stderr",
     "output_type": "stream",
     "text": [
      "INFO:root:Downloading ASTGTM2_N38W002_dem.tif\n"
     ]
    },
    {
     "name": "stdout",
     "output_type": "stream",
     "text": [
      "99 %"
     ]
    },
    {
     "name": "stderr",
     "output_type": "stream",
     "text": [
      "INFO:root:Downloaded ASTGTM2_N38W002_dem.tif\n",
      "INFO:root:Downloading ASTGTM2_N38W003_dem.tif\n"
     ]
    },
    {
     "name": "stdout",
     "output_type": "stream",
     "text": [
      "99 %"
     ]
    },
    {
     "name": "stderr",
     "output_type": "stream",
     "text": [
      "INFO:root:Downloaded ASTGTM2_N38W003_dem.tif\n",
      "INFO:root:Downloading ASTGTM2_N39W002_dem.tif\n"
     ]
    },
    {
     "name": "stdout",
     "output_type": "stream",
     "text": [
      "99 %"
     ]
    },
    {
     "name": "stderr",
     "output_type": "stream",
     "text": [
      "INFO:root:Downloaded ASTGTM2_N39W002_dem.tif\n",
      "INFO:root:Downloading ASTGTM2_N39W003_dem.tif\n"
     ]
    },
    {
     "name": "stdout",
     "output_type": "stream",
     "text": [
      "99 %"
     ]
    },
    {
     "name": "stderr",
     "output_type": "stream",
     "text": [
      "INFO:root:Downloaded ASTGTM2_N39W003_dem.tif\n"
     ]
    }
   ],
   "source": [
    "aster_dem_url = data_access_component.get_data_urls(BARRAX_ROI, start_time, end_time, 'AsterDEM')"
   ]
  },
  {
   "cell_type": "markdown",
   "metadata": {},
   "source": [
    "For CAMS, we only need the data for the days for which we have S2 observations."
   ]
  },
  {
   "cell_type": "code",
   "execution_count": 9,
   "metadata": {
    "collapsed": false
   },
   "outputs": [
    {
     "name": "stderr",
     "output_type": "stream",
     "text": [
      "INFO:root:Downloading 2017-01-16.nc\n"
     ]
    },
    {
     "name": "stdout",
     "output_type": "stream",
     "text": [
      "100 %"
     ]
    },
    {
     "name": "stderr",
     "output_type": "stream",
     "text": [
      "INFO:root:Downloaded 2017-01-16.nc\n",
      "INFO:root:Downloading 2017-01-19.nc\n"
     ]
    },
    {
     "name": "stdout",
     "output_type": "stream",
     "text": [
      "100 %"
     ]
    },
    {
     "name": "stderr",
     "output_type": "stream",
     "text": [
      "INFO:root:Downloaded 2017-01-19.nc\n"
     ]
    }
   ],
   "source": [
    "cams_urls = data_access_component.get_data_urls(BARRAX_ROI, '2017-1-16', '2017-1-16', 'CAMS')\n",
    "cams_urls.extend(data_access_component.get_data_urls(BARRAX_ROI, '2017-1-19', '2017-1-19', 'CAMS'))"
   ]
  },
  {
   "cell_type": "code",
   "execution_count": null,
   "metadata": {},
   "outputs": [],
   "source": []
  }
 ],
 "metadata": {
  "kernelspec": {
   "display_name": "Python 3",
   "language": "python",
   "name": "python3"
  },
  "language_info": {
   "codemirror_mode": {
    "name": "ipython",
    "version": 3
   },
   "file_extension": ".py",
   "mimetype": "text/x-python",
   "name": "python",
   "nbconvert_exporter": "python",
   "pygments_lexer": "ipython3",
   "version": "3.6.5"
  }
 },
 "nbformat": 4,
 "nbformat_minor": 1
}
