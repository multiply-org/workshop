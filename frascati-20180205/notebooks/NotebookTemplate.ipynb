{
 "cells": [
  {
   "cell_type": "markdown",
   "metadata": {},
   "source": [
    "Basic orchestration for Frascati.\n",
    "\n",
    "In the first step, we set the parameters we are interested in."
   ]
  },
  {
   "cell_type": "code",
   "execution_count": null,
   "metadata": {},
   "outputs": [],
   "source": [
    "roi = 'POLYGON ((11.9 48.0, 11.9 48.5, 11.1 48.1, 11.0 48.0, 11.9 48.0))'\n",
    "roi_tanzania = 'POLYGON((32. -2., 32. -8., 38. -8., 38. -2., 32. -2.))'\n",
    "start_time_as_string = '2017-01-01'\n",
    "end_time_as_string = '2017-01-10'\n",
    "time_interval = 8\n",
    "time_interval_unit = 'days' # days or weeks\n",
    "spatial_resolution_x = 10 # in m\n",
    "spatial_resolution_y = 10 # in m\n",
    "variables = ['sm', 'lai', 'cab']"
   ]
  },
  {
   "cell_type": "markdown",
   "metadata": {},
   "source": [
    "We continue with setting up the Data Access Component. It handles the access to all the data we need."
   ]
  },
  {
   "cell_type": "code",
   "execution_count": null,
   "metadata": {},
   "outputs": [],
   "source": [
    "from multiply_data_access import DataAccessComponent\n",
    "data_access_component = DataAccessComponent()\n",
    "import multiply_workshop_utils.utils as utils\n",
    "data_stores_file = utils.get_data_stores_file()\n",
    "data_access_component.read_data_stores(data_stores_file)"
   ]
  },
  {
   "cell_type": "markdown",
   "metadata": {},
   "source": [
    "First thing we want are the paths to the priors we are interested in."
   ]
  },
  {
   "cell_type": "code",
   "execution_count": null,
   "metadata": {},
   "outputs": [],
   "source": [
    "priors_sm_dir = data_access_component.get_data_urls(roi, start_time_as_string, \n",
    "                                                    end_time_as_string,\n",
    "                                                    'SoilMoisture')[0]\n",
    "priors_veg_dir = data_access_component.get_data_urls(roi, start_time_as_string, \n",
    "                                                     end_time_as_string,\n",
    "                                                     'Vegetation')[0]"
   ]
  },
  {
   "cell_type": "markdown",
   "metadata": {},
   "source": [
    "Now we have everything to create a configuration file: This file serves as input to the components of the platform. In later versions of the platform, it will be possible to simply specify one such file and run the whole process on base of it."
   ]
  },
  {
   "cell_type": "code",
   "execution_count": null,
   "metadata": {},
   "outputs": [],
   "source": [
    "config = utils.get_config(priors_sm_dir=priors_sm_dir, priors_veg_dir=priors_veg_dir, \n",
    "                          roi=roi, start_time=start_time_as_string, \n",
    "                          end_time=end_time_as_string, variables=variables, \n",
    "                          time_interval=time_interval, \n",
    "                          time_interval_unit=time_interval_unit,\n",
    "                          spatial_resolution_x=spatial_resolution_x,\n",
    "                          spatial_resolution_y=spatial_resolution_y)\n",
    "config_file_name = '{}config.yml'.format(utils.get_out_path())\n",
    "import yaml\n",
    "yaml.dump(config, open(config_file_name, 'w+'))\n",
    "from multiply_core.util import AttributeDict\n",
    "config_as_dict = AttributeDict(**config)"
   ]
  },
  {
   "cell_type": "markdown",
   "metadata": {},
   "source": [
    "Next, we convert the times to the datetime format so we can propagate time."
   ]
  },
  {
   "cell_type": "code",
   "execution_count": null,
   "metadata": {},
   "outputs": [],
   "source": [
    "from datetime import datetime\n",
    "start_time = datetime.strptime(start_time_as_string, \"%Y-%m-%d\")\n",
    "end_time = datetime.strptime(end_time_as_string, \"%Y-%m-%d\")"
   ]
  },
  {
   "cell_type": "markdown",
   "metadata": {},
   "source": [
    "Now we can get priors for each time step."
   ]
  },
  {
   "cell_type": "code",
   "execution_count": null,
   "metadata": {},
   "outputs": [],
   "source": [
    "current_time = start_time\n",
    "prior_file_dicts = []\n",
    "from multiply_prior_engine import PriorEngine\n",
    "while current_time < end_time:\n",
    "    time_string = current_time.strftime(\"%Y-%m-%d\")\n",
    "    prior_engine = PriorEngine(datestr=time_string, variables=variables, config=(config_file_name))\n",
    "    prior_file_dicts.append(prior_engine.get_priors())\n",
    "    current_time = utils.increase_time_step(current_time, time_interval, time_interval_unit)"
   ]
  },
  {
   "cell_type": "markdown",
   "metadata": {},
   "source": [
    "Now we can also read the EO data we want. Let's start with MODIS A1:"
   ]
  },
  {
   "cell_type": "code",
   "execution_count": null,
   "metadata": {},
   "outputs": [],
   "source": [
    "data_access_component.get_data_urls(roi_tanzania, start_time_as_string, end_time_as_string, 'MCD43A1')"
   ]
  },
  {
   "cell_type": "markdown",
   "metadata": {},
   "source": [
    "Now MODIS A2 ..."
   ]
  },
  {
   "cell_type": "code",
   "execution_count": null,
   "metadata": {},
   "outputs": [],
   "source": [
    "data_access_component.get_data_urls(roi_tanzania, start_time_as_string, end_time_as_string, 'MCD43A2')"
   ]
  },
  {
   "cell_type": "markdown",
   "metadata": {},
   "source": [
    "Preprocessed S2 ..."
   ]
  },
  {
   "cell_type": "code",
   "execution_count": null,
   "metadata": {},
   "outputs": [],
   "source": [
    "s2_start_time_as_string = '2017-07-01'\n",
    "s2_end_time_as_string = '2017-08-10'\n",
    "data_access_component.get_data_urls(roi, s2_start_time_as_string, s2_end_time_as_string, 'S2_L2')"
   ]
  },
  {
   "cell_type": "markdown",
   "metadata": {},
   "source": [
    "And finally pre-processed S1:"
   ]
  },
  {
   "cell_type": "code",
   "execution_count": null,
   "metadata": {},
   "outputs": [],
   "source": [
    "data_access_component.get_data_urls(roi, start_time_as_string, end_time_as_string, 'S1')"
   ]
  },
  {
   "cell_type": "code",
   "execution_count": null,
   "metadata": {},
   "outputs": [],
   "source": []
  }
 ],
 "metadata": {
  "kernelspec": {
   "display_name": "Python 2",
   "language": "python",
   "name": "python2"
  },
  "language_info": {
   "codemirror_mode": {
    "name": "ipython",
    "version": 2
   },
   "file_extension": ".py",
   "mimetype": "text/x-python",
   "name": "python",
   "nbconvert_exporter": "python",
   "pygments_lexer": "ipython2",
   "version": "2.7.6"
  }
 },
 "nbformat": 4,
 "nbformat_minor": 0
}
